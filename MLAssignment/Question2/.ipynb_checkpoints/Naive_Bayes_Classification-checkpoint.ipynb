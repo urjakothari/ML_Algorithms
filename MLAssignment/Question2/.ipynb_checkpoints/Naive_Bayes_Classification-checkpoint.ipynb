{
 "cells": [
  {
   "cell_type": "code",
   "execution_count": 15,
   "metadata": {},
   "outputs": [],
   "source": [
    "import numpy as np\n",
    "import pandas as pd\n",
    "import sklearn\n",
    "\n",
    "#load data\n",
    "\n",
    "def load_iris_data():\n",
    "    return pd.read_csv(\"dataset/iris.csv\")"
   ]
  },
  {
   "cell_type": "code",
   "execution_count": 16,
   "metadata": {},
   "outputs": [],
   "source": [
    "iris = load_iris_data()"
   ]
  },
  {
   "cell_type": "code",
   "execution_count": 17,
   "metadata": {},
   "outputs": [],
   "source": [
    "#separate test set and train set\n",
    "\n",
    "import hashlib\n",
    "def test_set_check(identifier,test_ratio,hash):\n",
    "    return bytearray(hash(np.int64(identifier)).digest())[-1]  < 51\n",
    "def split_train_test_by_id(data,test_ratio,id_column,hash):\n",
    "    ids=data[id_column]\n",
    "    in_test_set=ids.apply(lambda id_:test_set_check(id_,test_ratio,hash))\n",
    "    return in_test_set"
   ]
  },
  {
   "cell_type": "code",
   "execution_count": 18,
   "metadata": {},
   "outputs": [],
   "source": [
    "iris=iris.reset_index()\n",
    "in_test_set=split_train_test_by_id(iris,0.66,\"index\",hashlib.md5)\n",
    "test_set=iris[in_test_set]\n",
    "train_set=iris[~in_test_set]\n",
    "\n",
    "#deleting index from test set and train set\n",
    "\n",
    "del train_set['index']\n",
    "del test_set['index']"
   ]
  },
  {
   "cell_type": "code",
   "execution_count": 19,
   "metadata": {},
   "outputs": [],
   "source": [
    "#converting data frame to matrix\n",
    "\n",
    "train_set_array = train_set.as_matrix()\n"
   ]
  },
  {
   "cell_type": "code",
   "execution_count": 20,
   "metadata": {},
   "outputs": [],
   "source": [
    "test_set_copy = test_set\n",
    "\n",
    "#creating two copies of testset...\n",
    "#one with predictions and other without predictions\n",
    "#then converting both of thenm to matrix\n",
    "\n",
    "test_set_copy = test_set_copy.as_matrix()\n",
    "del test_set['species']\n",
    "\n",
    "test_set_array = test_set.as_matrix()\n"
   ]
  },
  {
   "cell_type": "code",
   "execution_count": 21,
   "metadata": {},
   "outputs": [],
   "source": [
    "#functions for separating data classwise\n",
    "\n",
    "def separatedataset(data):\n",
    "    separated = {}\n",
    "    for i in range(len(data)):\n",
    "        row = data[i]\n",
    "        if row[-1] not in separated:\n",
    "            separated[row[-1]] =[]\n",
    "        separated[row[-1]].append(row)\n",
    "    return separated\n"
   ]
  },
  {
   "cell_type": "code",
   "execution_count": 22,
   "metadata": {},
   "outputs": [],
   "source": [
    "import math\n",
    "#mean of values [1,2,3,4] = (1+2+3+4)/4\n",
    "\n",
    "def mean(numbers):\n",
    "    return sum(numbers)/float(len(numbers))\n",
    "\n",
    "#standard deviation of values [1,2,3,4] = ((1^2+2^2+3^2+4^2)/4)\n",
    "\n",
    "def stddev(numbers):\n",
    "    avg = mean(numbers)\n",
    "    sum = 0\n",
    "    for i in range(len(numbers)):\n",
    "        power2 = pow(numbers[i]-avg,2)\n",
    "        sum+=power2\n",
    "    variance = sum/float(len(numbers))\n",
    "    return math.sqrt(variance)"
   ]
  },
  {
   "cell_type": "code",
   "execution_count": 23,
   "metadata": {},
   "outputs": [],
   "source": [
    "#passing data with multiple attributes\n",
    "#function will separate mean and standard deviations of all data for all attributes and appending it in a variable and returning\n",
    "\n",
    "def meandevdata(data):\n",
    "    meandev = []\n",
    "\n",
    "    #zipd funcion is zipping array such that it can be iterated through all attributes\n",
    "    \n",
    "    zipd = zip(*data)\n",
    "    del zipd[-1]\n",
    "    for attribute in zipd:\n",
    "        meandev_prev = ((mean(attribute),stddev(attribute)))\n",
    "        meandev.append((meandev_prev))\n",
    "    return meandev"
   ]
  },
  {
   "cell_type": "code",
   "execution_count": 24,
   "metadata": {},
   "outputs": [],
   "source": [
    "#fuction calculating mean and standard deviations of all attributes for each class\n",
    "\n",
    "def meandevclass(data):\n",
    "    separated = separatedataset(data)\n",
    "    meandevclassdata = {}\n",
    "    for classno, instances in separated.iteritems():\n",
    "        meandevclassdata[classno] = meandevdata(instances)\n",
    "    return meandevclassdata"
   ]
  },
  {
   "cell_type": "code",
   "execution_count": 25,
   "metadata": {},
   "outputs": [
    {
     "ename": "TypeError",
     "evalue": "'zip' object does not support item deletion",
     "output_type": "error",
     "traceback": [
      "\u001b[0;31m---------------------------------------------------------------------------\u001b[0m",
      "\u001b[0;31mTypeError\u001b[0m                                 Traceback (most recent call last)",
      "\u001b[0;32m<ipython-input-25-7ff01e6cbf40>\u001b[0m in \u001b[0;36m<module>\u001b[0;34m()\u001b[0m\n\u001b[0;32m----> 1\u001b[0;31m \u001b[0mmeandevbyclass\u001b[0m \u001b[0;34m=\u001b[0m \u001b[0mmeandevclass\u001b[0m\u001b[0;34m(\u001b[0m\u001b[0mtrain_set_array\u001b[0m\u001b[0;34m)\u001b[0m\u001b[0;34m\u001b[0m\u001b[0m\n\u001b[0m",
      "\u001b[0;32m<ipython-input-24-ed188441e1fb>\u001b[0m in \u001b[0;36mmeandevclass\u001b[0;34m(data)\u001b[0m\n\u001b[1;32m      4\u001b[0m     \u001b[0mmeandevclassdata\u001b[0m \u001b[0;34m=\u001b[0m \u001b[0;34m{\u001b[0m\u001b[0;34m}\u001b[0m\u001b[0;34m\u001b[0m\u001b[0m\n\u001b[1;32m      5\u001b[0m     \u001b[0;32mfor\u001b[0m \u001b[0mclassno\u001b[0m\u001b[0;34m,\u001b[0m \u001b[0minstances\u001b[0m \u001b[0;32min\u001b[0m \u001b[0mseparated\u001b[0m\u001b[0;34m.\u001b[0m\u001b[0mitems\u001b[0m\u001b[0;34m(\u001b[0m\u001b[0;34m)\u001b[0m\u001b[0;34m:\u001b[0m\u001b[0;34m\u001b[0m\u001b[0m\n\u001b[0;32m----> 6\u001b[0;31m         \u001b[0mmeandevclassdata\u001b[0m\u001b[0;34m[\u001b[0m\u001b[0mclassno\u001b[0m\u001b[0;34m]\u001b[0m \u001b[0;34m=\u001b[0m \u001b[0mmeandevdata\u001b[0m\u001b[0;34m(\u001b[0m\u001b[0minstances\u001b[0m\u001b[0;34m)\u001b[0m\u001b[0;34m\u001b[0m\u001b[0m\n\u001b[0m\u001b[1;32m      7\u001b[0m     \u001b[0;32mreturn\u001b[0m \u001b[0mmeandevclassdata\u001b[0m\u001b[0;34m\u001b[0m\u001b[0m\n",
      "\u001b[0;32m<ipython-input-23-914f1da07436>\u001b[0m in \u001b[0;36mmeandevdata\u001b[0;34m(data)\u001b[0m\n\u001b[1;32m      5\u001b[0m     \u001b[0;31m#zipd funcion is zipping array such that it can be iterated through all attributes\u001b[0m\u001b[0;34m\u001b[0m\u001b[0;34m\u001b[0m\u001b[0m\n\u001b[1;32m      6\u001b[0m     \u001b[0mzipd\u001b[0m \u001b[0;34m=\u001b[0m \u001b[0mzip\u001b[0m\u001b[0;34m(\u001b[0m\u001b[0;34m*\u001b[0m\u001b[0mdata\u001b[0m\u001b[0;34m)\u001b[0m\u001b[0;34m\u001b[0m\u001b[0m\n\u001b[0;32m----> 7\u001b[0;31m     \u001b[0;32mdel\u001b[0m \u001b[0mzipd\u001b[0m\u001b[0;34m[\u001b[0m\u001b[0;34m-\u001b[0m\u001b[0;36m1\u001b[0m\u001b[0;34m]\u001b[0m\u001b[0;34m\u001b[0m\u001b[0m\n\u001b[0m\u001b[1;32m      8\u001b[0m     \u001b[0;32mfor\u001b[0m \u001b[0mattribute\u001b[0m \u001b[0;32min\u001b[0m \u001b[0mzipd\u001b[0m\u001b[0;34m:\u001b[0m\u001b[0;34m\u001b[0m\u001b[0m\n\u001b[1;32m      9\u001b[0m         \u001b[0mmeandev_prev\u001b[0m \u001b[0;34m=\u001b[0m \u001b[0;34m(\u001b[0m\u001b[0;34m(\u001b[0m\u001b[0mmean\u001b[0m\u001b[0;34m(\u001b[0m\u001b[0mattribute\u001b[0m\u001b[0;34m)\u001b[0m\u001b[0;34m,\u001b[0m\u001b[0mstddev\u001b[0m\u001b[0;34m(\u001b[0m\u001b[0mattribute\u001b[0m\u001b[0;34m)\u001b[0m\u001b[0;34m)\u001b[0m\u001b[0;34m)\u001b[0m\u001b[0;34m\u001b[0m\u001b[0m\n",
      "\u001b[0;31mTypeError\u001b[0m: 'zip' object does not support item deletion"
     ]
    }
   ],
   "source": [
    "meandevbyclass = meandevclass(train_set_array)"
   ]
  },
  {
   "cell_type": "code",
   "execution_count": 12,
   "metadata": {},
   "outputs": [],
   "source": [
    "#testing instance is passed to calculate probability of that attribute being part of that class\n",
    "\n",
    "def P_attributegivenclass(x,mean,dev):\n",
    "    expo = math.exp(-(math.pow(x-mean,2)/(2*math.pow(dev,2))))\n",
    "    return (1 / (math.sqrt(2*math.pi) * dev)) * expo\n"
   ]
  },
  {
   "cell_type": "code",
   "execution_count": 13,
   "metadata": {},
   "outputs": [],
   "source": [
    "#claculate probabilities of a vector belonging to each class and returning all probabilities  \n",
    "\n",
    "def P_combiningprobforaclass(meandevclassdata,inputvector):\n",
    "    probabilities = {}\n",
    "    for classValue, classmeandev in meandevclassdata.iteritems():\n",
    "        probabilities[classValue] = 1\n",
    "        for i in range(len(classmeandev)):\n",
    "            mean, dev = classmeandev[i]\n",
    "            x = inputvector[i]\n",
    "            probabilities[classValue] *= P_attributegivenclass(x, mean, dev)\n",
    "    return probabilities\n",
    "\n"
   ]
  },
  {
   "cell_type": "code",
   "execution_count": 14,
   "metadata": {},
   "outputs": [],
   "source": [
    "#After getting probabilies from P_combiningprobforaclass function return the most probable class for atest instance\n",
    "\n",
    "def prediction(meandevclassdata, inputVector):\n",
    "    probabilities = P_combiningprobforaclass(meandevclassdata, inputVector)\n",
    "    bestLabel, bestProb = None, -1\n",
    "    for classValue, probability in probabilities.iteritems():\n",
    "        if bestLabel is None or probability > bestProb:\n",
    "            bestProb = probability\n",
    "            bestLabel = classValue\n",
    "    return bestLabel"
   ]
  },
  {
   "cell_type": "code",
   "execution_count": 15,
   "metadata": {},
   "outputs": [],
   "source": [
    "#getting predictions for all test instance for the most probable class\n",
    "\n",
    "def getPredictions(meandevclassdata, testSet):\n",
    "    predictions = []\n",
    "    for i in range(len(testSet)):\n",
    "        result = prediction(meandevclassdata, testSet[i])\n",
    "        predictions.append(result)\n",
    "    return predictions\n",
    "Predictions = []\n",
    "Predictions = getPredictions(meandevbyclass,test_set_array)"
   ]
  },
  {
   "cell_type": "code",
   "execution_count": 16,
   "metadata": {},
   "outputs": [],
   "source": [
    "#getting accuracy if predicted value is same as actual values\n",
    "\n",
    "def getAccuracy(testSet, predictions):\n",
    "    correct = 0\n",
    "    for x in range(len(testSet)):\n",
    "        if testSet[x][-1] == predictions[x]:\n",
    "            correct += 1\n",
    "    return (correct/float(len(testSet))) * 100.0"
   ]
  },
  {
   "cell_type": "code",
   "execution_count": 26,
   "metadata": {},
   "outputs": [
    {
     "ename": "SyntaxError",
     "evalue": "Missing parentheses in call to 'print' (<ipython-input-26-e30909bc9f16>, line 2)",
     "output_type": "error",
     "traceback": [
      "\u001b[0;36m  File \u001b[0;32m\"<ipython-input-26-e30909bc9f16>\"\u001b[0;36m, line \u001b[0;32m2\u001b[0m\n\u001b[0;31m    print \"Accuracy\"\u001b[0m\n\u001b[0m                   ^\u001b[0m\n\u001b[0;31mSyntaxError\u001b[0m\u001b[0;31m:\u001b[0m Missing parentheses in call to 'print'\n"
     ]
    }
   ],
   "source": [
    "#accuracy\n",
    "\n",
    "print \"Accuracy\"\n",
    "getAccuracy(test_set_copy,Predictions)\n"
   ]
  },
  {
   "cell_type": "code",
   "execution_count": null,
   "metadata": {},
   "outputs": [],
   "source": []
  },
  {
   "cell_type": "code",
   "execution_count": null,
   "metadata": {},
   "outputs": [],
   "source": [
    " "
   ]
  }
 ],
 "metadata": {
  "kernelspec": {
   "display_name": "Python 2",
   "language": "python",
   "name": "python2"
  },
  "language_info": {
   "codemirror_mode": {
    "name": "ipython",
    "version": 2
   },
   "file_extension": ".py",
   "mimetype": "text/x-python",
   "name": "python",
   "nbconvert_exporter": "python",
   "pygments_lexer": "ipython2",
   "version": "2.7.6"
  }
 },
 "nbformat": 4,
 "nbformat_minor": 2
}
