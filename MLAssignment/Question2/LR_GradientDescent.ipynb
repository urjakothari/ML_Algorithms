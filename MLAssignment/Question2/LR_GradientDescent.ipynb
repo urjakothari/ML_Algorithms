{
 "cells": [
  {
   "cell_type": "markdown",
   "metadata": {
    "_cell_guid": "f7eaa7d1-9025-8cde-7b6a-459b46eb6594",
    "_uuid": "0ea601441cb720c7de061291a97e64506088ec3c"
   },
   "source": [
    "#Logisic Regression using Gradient Descent"
   ]
  },
  {
   "cell_type": "code",
   "execution_count": 2,
   "metadata": {
    "_cell_guid": "b2e0476a-bcdd-7409-1233-3671c9bd4037",
    "_execution_state": "idle",
    "_uuid": "4f27758a84e3a864d2a8c533428375bdac2ebd9e"
   },
   "outputs": [
    {
     "data": {
      "text/html": [
       "<div>\n",
       "<style scoped>\n",
       "    .dataframe tbody tr th:only-of-type {\n",
       "        vertical-align: middle;\n",
       "    }\n",
       "\n",
       "    .dataframe tbody tr th {\n",
       "        vertical-align: top;\n",
       "    }\n",
       "\n",
       "    .dataframe thead th {\n",
       "        text-align: right;\n",
       "    }\n",
       "</style>\n",
       "<table border=\"1\" class=\"dataframe\">\n",
       "  <thead>\n",
       "    <tr style=\"text-align: right;\">\n",
       "      <th></th>\n",
       "      <th>sepal_length</th>\n",
       "      <th>sepal_width</th>\n",
       "      <th>petal_length</th>\n",
       "      <th>petal_width</th>\n",
       "      <th>species</th>\n",
       "    </tr>\n",
       "  </thead>\n",
       "  <tbody>\n",
       "    <tr>\n",
       "      <th>0</th>\n",
       "      <td>5.1</td>\n",
       "      <td>3.5</td>\n",
       "      <td>1.4</td>\n",
       "      <td>0.2</td>\n",
       "      <td>setosa</td>\n",
       "    </tr>\n",
       "    <tr>\n",
       "      <th>1</th>\n",
       "      <td>4.9</td>\n",
       "      <td>3.0</td>\n",
       "      <td>1.4</td>\n",
       "      <td>0.2</td>\n",
       "      <td>setosa</td>\n",
       "    </tr>\n",
       "    <tr>\n",
       "      <th>2</th>\n",
       "      <td>4.7</td>\n",
       "      <td>3.2</td>\n",
       "      <td>1.3</td>\n",
       "      <td>0.2</td>\n",
       "      <td>setosa</td>\n",
       "    </tr>\n",
       "    <tr>\n",
       "      <th>3</th>\n",
       "      <td>4.6</td>\n",
       "      <td>3.1</td>\n",
       "      <td>1.5</td>\n",
       "      <td>0.2</td>\n",
       "      <td>setosa</td>\n",
       "    </tr>\n",
       "    <tr>\n",
       "      <th>4</th>\n",
       "      <td>5.0</td>\n",
       "      <td>3.6</td>\n",
       "      <td>1.4</td>\n",
       "      <td>0.2</td>\n",
       "      <td>setosa</td>\n",
       "    </tr>\n",
       "  </tbody>\n",
       "</table>\n",
       "</div>"
      ],
      "text/plain": [
       "   sepal_length  sepal_width  petal_length  petal_width species\n",
       "0           5.1          3.5           1.4          0.2  setosa\n",
       "1           4.9          3.0           1.4          0.2  setosa\n",
       "2           4.7          3.2           1.3          0.2  setosa\n",
       "3           4.6          3.1           1.5          0.2  setosa\n",
       "4           5.0          3.6           1.4          0.2  setosa"
      ]
     },
     "execution_count": 2,
     "metadata": {},
     "output_type": "execute_result"
    }
   ],
   "source": [
    "from subprocess import check_output\n",
    "import numpy as np \n",
    "import pandas as pd \n",
    "from sklearn.metrics import accuracy_score  \n",
    "from sklearn.cross_validation import train_test_split\n",
    "from pandas.tools.plotting import parallel_coordinates\n",
    "import time\n",
    "\n",
    "#Load Data from Location\n",
    "iris = pd.read_csv('dataset/iris.csv')\n",
    "iris.head()"
   ]
  },
  {
   "cell_type": "markdown",
   "metadata": {},
   "source": [
    "# Data Preprocessing"
   ]
  },
  {
   "cell_type": "code",
   "execution_count": 3,
   "metadata": {
    "_cell_guid": "bb9cc00a-c892-46f3-bdc4-db570b04bf65",
    "_execution_state": "idle",
    "_uuid": "c665e55f6ca36a9b6a988e046d443a87674b16fc"
   },
   "outputs": [],
   "source": [
    "#Data setup\n",
    "\n",
    "Species = ['setosa', 'versicolor', 'virginica']\n",
    "\n",
    "#Number of examples\n",
    "\n",
    "m = iris.shape[0]\n",
    "\n",
    "#Features\n",
    "\n",
    "n = 4\n",
    "\n",
    "#Number of classes\n",
    "\n",
    "k = 3\n",
    "\n",
    "#copying Iris data Column Wise to new matrix X of dimension m x (n+1)\n",
    "\n",
    "X = np.ones((m,n + 1))\n",
    "y = np.array((m,1))\n",
    "X[:,1] = iris['petal_length'].values\n",
    "X[:,2] = iris['petal_width'].values\n",
    "X[:,3] = iris['sepal_length'].values\n",
    "X[:,4] = iris['sepal_width'].values\n",
    "\n",
    "#Labels\n",
    "\n",
    "y = iris['species'].values\n",
    "\n",
    "#Mean normalization\n",
    "\n",
    "for j in range(n):\n",
    "    X[:, j] = (X[:, j] - X[:,j].mean())\n",
    "\n",
    "#Splitting dataset into training and test data and targets\n",
    "\n",
    "X_train, X_test, y_train, y_test = train_test_split(X, y, test_size = 0.2, random_state = 11)\n",
    " "
   ]
  },
  {
   "cell_type": "markdown",
   "metadata": {},
   "source": [
    "# Logistic Regression Using Gradient Descent"
   ]
  },
  {
   "cell_type": "code",
   "execution_count": 4,
   "metadata": {
    "_cell_guid": "6d7bb870-5d83-938f-e099-addedc3bc840",
    "_execution_state": "idle",
    "_uuid": "ea7c20ec86ccdc4e604bb27f936a09e6a184de8e"
   },
   "outputs": [],
   "source": [
    "#Logistic Regression\n",
    "#utility funtion to calculate Sigmoid\n",
    "\n",
    "def sigmoid(z):\n",
    "    return 1.0 / (1 + np.exp(-z))\n",
    "\n",
    "#gradient function\n",
    "\n",
    "def Gradient(theta, X, y):\n",
    "    m, n = X.shape\n",
    "    theta = theta.reshape((n, 1))\n",
    "    y = y.reshape((m, 1))\n",
    "    h = sigmoid(X.dot(theta))\n",
    "    return ( X.T.dot(y-h))\n",
    "\n",
    "#Optimal theta by iterating throught Gradient function unless it Converges\n",
    "\n",
    "eta=0.002\n",
    "\n",
    "#eta is the learning rate of Gradient Descent which can be visualized as step size on the graph\n",
    "\n",
    "def logisticRegression(X, y, theta,iterations):\n",
    "    for i in range(iterations):\n",
    "        gradient=Gradient(theta,X,y)\n",
    "         #Since we have to Maximize the Log-Likelihood,we'll use Gradient Ascent\n",
    "        theta=theta+eta*gradient\n",
    "    return theta"
   ]
  },
  {
   "cell_type": "code",
   "execution_count": 5,
   "metadata": {
    "_cell_guid": "05bece16-e668-7d2c-a931-0db966d28f5e",
    "_execution_state": "idle",
    "_uuid": "7e32b6b7c8f448118e368a7e95125cc7967c0130"
   },
   "outputs": [],
   "source": [
    "#Training and calculating time to train data\n",
    "\n",
    "import time\n",
    "\n",
    "#iterations till convergence is found\n",
    "\n",
    "iterations=5000\n",
    "\n",
    "#3 Thetas for each of the species,each theta initialised with 0 \n",
    "\n",
    "all_theta = np.zeros((3, n + 1))\n",
    "\n",
    "#One vs all\n",
    " \n",
    "i = 0\n",
    "start_time=time.clock()\n",
    "for flower in Species:\n",
    "    #while calculating one flower,target of that is 1 else 0 i.e. either flower[i] or not-flower[i]\n",
    "    tmp_y = np.array(y_train == flower, dtype = int)\n",
    "    optTheta = logisticRegression(X_train, tmp_y, np.zeros((n + 1,1)),iterations)\n",
    "    optTheta=optTheta.reshape((5,))\n",
    "    all_theta[i] = optTheta\n",
    "    i += 1\n",
    "end_time=time.clock()"
   ]
  },
  {
   "cell_type": "code",
   "execution_count": 6,
   "metadata": {
    "_cell_guid": "68fe4051-0cc8-44c3-a998-7dc8df165506",
    "_execution_state": "idle",
    "_uuid": "236469501520f42a721cf0c0926930e925de31c6"
   },
   "outputs": [
    {
     "name": "stdout",
     "output_type": "stream",
     "text": [
      "Test Accuracy :  96.66666666666667 %\n",
      "Time taken to train Iris Dataset using Logistic Regression(Gradient Descent) :  0.27375\n"
     ]
    }
   ],
   "source": [
    "#Predictions\n",
    "\n",
    "P = sigmoid(X_test.dot(all_theta.T)) #probability for each flower\n",
    "\n",
    "#Probability maximum for a class-that class is the target\n",
    "\n",
    "p = [Species[np.argmax(P[i, :])] for i in range(X_test.shape[0])]\n",
    "\n",
    "print \"Test Accuracy : \", accuracy_score(y_test, p) * 100 , '%'\n",
    "print \"Time taken to train Iris Dataset using Logistic Regression(Gradient Descent) : \",(end_time-start_time)"
   ]
  }
 ],
 "metadata": {
  "_change_revision": 0,
  "_is_fork": false,
  "kernelspec": {
   "display_name": "Python 2",
   "language": "python",
   "name": "python2"
  },
  "language_info": {
   "codemirror_mode": {
    "name": "ipython",
    "version": 2
   },
   "file_extension": ".py",
   "mimetype": "text/x-python",
   "name": "python",
   "nbconvert_exporter": "python",
   "pygments_lexer": "ipython2",
   "version": "2.7.6"
  }
 },
 "nbformat": 4,
 "nbformat_minor": 1
}
