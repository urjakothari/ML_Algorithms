{
 "cells": [
  {
   "cell_type": "code",
   "execution_count": 1,
   "metadata": {},
   "outputs": [],
   "source": [
    "import numpy as np\n",
    "import pandas as pd\n",
    "import sklearn\n",
    "#load data\n",
    "def load_iris_data():\n",
    "    return pd.read_csv(\"Assignment_data/Data_Q2/iris.csv\")"
   ]
  },
  {
   "cell_type": "code",
   "execution_count": 2,
   "metadata": {},
   "outputs": [],
   "source": [
    "iris = load_iris_data()"
   ]
  },
  {
   "cell_type": "code",
   "execution_count": 3,
   "metadata": {},
   "outputs": [],
   "source": [
    "#separate test set and train set\n",
    "import hashlib\n",
    "def test_set_check(identifier,test_ratio,hash):\n",
    "    return bytearray(hash(np.int64(identifier)).digest())[-1]  < 51\n",
    "def split_train_test_by_id(data,test_ratio,id_column,hash):\n",
    "    ids=data[id_column]\n",
    "    in_test_set=ids.apply(lambda id_:test_set_check(id_,test_ratio,hash))\n",
    "    return in_test_set"
   ]
  },
  {
   "cell_type": "code",
   "execution_count": 4,
   "metadata": {},
   "outputs": [],
   "source": [
    "iris=iris.reset_index()\n",
    "in_test_set=split_train_test_by_id(iris,0.66,\"index\",hashlib.md5)\n",
    "test_set=iris[in_test_set]\n",
    "train_set=iris[~in_test_set]\n",
    "#deleting index from test set and train set\n",
    "del train_set['index']\n",
    "del test_set['index']"
   ]
  },
  {
   "cell_type": "code",
   "execution_count": 5,
   "metadata": {},
   "outputs": [],
   "source": [
    "#converting data frame to matrix\n",
    "train_set_array = train_set.as_matrix()\n"
   ]
  },
  {
   "cell_type": "code",
   "execution_count": 6,
   "metadata": {},
   "outputs": [],
   "source": [
    "test_set_copy = test_set\n",
    "#creating two copies of testset...\n",
    "#one with predictions and other without predictions\n",
    "#then converting both of thenm to matrix\n",
    "test_set_copy = test_set_copy.as_matrix()\n",
    "del test_set['species']\n",
    "\n",
    "test_set_array = test_set.as_matrix()\n"
   ]
  },
  {
   "cell_type": "code",
   "execution_count": 7,
   "metadata": {},
   "outputs": [],
   "source": [
    "#functions for separating data classwise\n",
    "def separatedataset(data):\n",
    "    separated = {}\n",
    "    for i in range(len(data)):\n",
    "        row = data[i]\n",
    "        if row[-1] not in separated:\n",
    "            separated[row[-1]] =[]\n",
    "        separated[row[-1]].append(row)\n",
    "    return separated\n"
   ]
  },
  {
   "cell_type": "code",
   "execution_count": 8,
   "metadata": {},
   "outputs": [],
   "source": [
    "import math\n",
    "#mean of values [1,2,3,4] = (1+2+3+4)/4\n",
    "def mean(numbers):\n",
    "    return sum(numbers)/float(len(numbers))\n",
    "#standard deviation of values [1,2,3,4] = ((1^2+2^2+3^2+4^2)/4)\n",
    "def stddev(numbers):\n",
    "    avg = mean(numbers)\n",
    "    sum = 0\n",
    "    for i in range(len(numbers)):\n",
    "        power2 = pow(numbers[i]-avg,2)\n",
    "        sum+=power2\n",
    "    variance = sum/float(len(numbers))\n",
    "    return math.sqrt(variance)"
   ]
  },
  {
   "cell_type": "code",
   "execution_count": 9,
   "metadata": {},
   "outputs": [],
   "source": [
    "#passing data with multiple attributes\n",
    "#function will separate mean and standard deviations of all data for all attributes and appending it in a variable and returning\n",
    "def meandevdata(data):\n",
    "    meandev = []\n",
    "    #zipd funcion is zipping array such that it can be iterated through all attributes\n",
    "    zipd = zip(*data)\n",
    "    del zipd[-1]\n",
    "    for attribute in zipd:\n",
    "        meandev_prev = ((mean(attribute),stddev(attribute)))\n",
    "        meandev.append((meandev_prev))\n",
    "    return meandev"
   ]
  },
  {
   "cell_type": "code",
   "execution_count": 10,
   "metadata": {},
   "outputs": [],
   "source": [
    "#fuction calculating mean and standard deviations of all attributes for each class\n",
    "def meandevclass(data):\n",
    "    separated = separatedataset(data)\n",
    "    meandevclassdata = {}\n",
    "    for classno, instances in separated.iteritems():\n",
    "        meandevclassdata[classno] = meandevdata(instances)\n",
    "    return meandevclassdata"
   ]
  },
  {
   "cell_type": "code",
   "execution_count": 11,
   "metadata": {},
   "outputs": [],
   "source": [
    "meandevbyclass = meandevclass(train_set_array)"
   ]
  },
  {
   "cell_type": "code",
   "execution_count": 12,
   "metadata": {},
   "outputs": [],
   "source": [
    "#testing instance is passed to calculate probability of that attribute being part of that class\n",
    "def P_attributegivenclass(x,mean,dev):\n",
    "    expo = math.exp(-(math.pow(x-mean,2)/(2*math.pow(dev,2))))\n",
    "    return (1 / (math.sqrt(2*math.pi) * dev)) * expo\n"
   ]
  },
  {
   "cell_type": "code",
   "execution_count": 13,
   "metadata": {},
   "outputs": [],
   "source": [
    "#claculate probabilities of a vector belonging to each class and returning all probabilities  \n",
    "def P_combiningprobforaclass(meandevclassdata,inputvector):\n",
    "    probabilities = {}\n",
    "    for classValue, classmeandev in meandevclassdata.iteritems():\n",
    "        probabilities[classValue] = 1\n",
    "        for i in range(len(classmeandev)):\n",
    "            mean, dev = classmeandev[i]\n",
    "            x = inputvector[i]\n",
    "            probabilities[classValue] *= P_attributegivenclass(x, mean, dev)\n",
    "    return probabilities\n",
    "\n"
   ]
  },
  {
   "cell_type": "code",
   "execution_count": 14,
   "metadata": {},
   "outputs": [],
   "source": [
    "#After getting probabilies from P_combiningprobforaclass function return the most probable class for atest instance\n",
    "def prediction(meandevclassdata, inputVector):\n",
    "    probabilities = P_combiningprobforaclass(meandevclassdata, inputVector)\n",
    "    bestLabel, bestProb = None, -1\n",
    "    for classValue, probability in probabilities.iteritems():\n",
    "        if bestLabel is None or probability > bestProb:\n",
    "            bestProb = probability\n",
    "            bestLabel = classValue\n",
    "    return bestLabel"
   ]
  },
  {
   "cell_type": "code",
   "execution_count": 15,
   "metadata": {},
   "outputs": [],
   "source": [
    "#getting predictions for all test instance for the most probable class\n",
    "def getPredictions(meandevclassdata, testSet):\n",
    "    predictions = []\n",
    "    for i in range(len(testSet)):\n",
    "        result = prediction(meandevclassdata, testSet[i])\n",
    "        predictions.append(result)\n",
    "    return predictions\n",
    "Predictions = []\n",
    "Predictions = getPredictions(meandevbyclass,test_set_array)"
   ]
  },
  {
   "cell_type": "code",
   "execution_count": 16,
   "metadata": {},
   "outputs": [],
   "source": [
    "#getting accuracy if predicted value is same as actual values\n",
    "def getAccuracy(testSet, predictions):\n",
    "    correct = 0\n",
    "    for x in range(len(testSet)):\n",
    "        if testSet[x][-1] == predictions[x]:\n",
    "            correct += 1\n",
    "    return (correct/float(len(testSet))) * 100.0"
   ]
  },
  {
   "cell_type": "code",
   "execution_count": 17,
   "metadata": {},
   "outputs": [
    {
     "data": {
      "text/plain": [
       "88.46153846153845"
      ]
     },
     "execution_count": 17,
     "metadata": {},
     "output_type": "execute_result"
    }
   ],
   "source": [
    "#accuracy\n",
    "getAccuracy(test_set_copy,Predictions)\n"
   ]
  },
  {
   "cell_type": "code",
   "execution_count": null,
   "metadata": {},
   "outputs": [],
   "source": []
  },
  {
   "cell_type": "code",
   "execution_count": null,
   "metadata": {},
   "outputs": [],
   "source": [
    " "
   ]
  }
 ],
 "metadata": {
  "kernelspec": {
   "display_name": "Python 2",
   "language": "python",
   "name": "python2"
  },
  "language_info": {
   "codemirror_mode": {
    "name": "ipython",
    "version": 2
   },
   "file_extension": ".py",
   "mimetype": "text/x-python",
   "name": "python",
   "nbconvert_exporter": "python",
   "pygments_lexer": "ipython2",
   "version": "2.7.12"
  }
 },
 "nbformat": 4,
 "nbformat_minor": 2
}
