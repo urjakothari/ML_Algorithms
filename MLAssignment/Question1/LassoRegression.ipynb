{
 "cells": [
  {
   "cell_type": "code",
   "execution_count": 20,
   "metadata": {},
   "outputs": [],
   "source": [
    "import matplotlib\n",
    "import matplotlib.pyplot as plt\n",
    "import numpy as np\n",
    "import pandas as pd\n",
    "import sklearn\n",
    "def load_housing_data():\n",
    "    return pd.read_csv(\"dataset/housing.csv\")"
   ]
  },
  {
   "cell_type": "code",
   "execution_count": 21,
   "metadata": {},
   "outputs": [],
   "source": [
    "housing=load_housing_data()\n"
   ]
  },
  {
   "cell_type": "code",
   "execution_count": 22,
   "metadata": {},
   "outputs": [],
   "source": [
    "housing=housing.reset_index()"
   ]
  },
  {
   "cell_type": "code",
   "execution_count": 23,
   "metadata": {},
   "outputs": [],
   "source": [
    "housing[\"income_cat\"]=np.ceil(housing[\"median_income\"]/1.5)\n",
    "housing[\"income_cat\"].where(housing[\"income_cat\"]<5,5.0,inplace=True)\n"
   ]
  },
  {
   "cell_type": "code",
   "execution_count": 24,
   "metadata": {},
   "outputs": [],
   "source": [
    "from sklearn.model_selection import StratifiedShuffleSplit\n",
    "split=StratifiedShuffleSplit(n_splits=3,test_size=0.2,random_state=42)\n",
    "for train_index,test_index in split.split(housing,housing[\"income_cat\"]):\n",
    "        strat_train_set=housing.loc[train_index]\n",
    "        strat_test_set=housing.loc[test_index]\n"
   ]
  },
  {
   "cell_type": "code",
   "execution_count": 25,
   "metadata": {},
   "outputs": [],
   "source": [
    "for set in strat_train_set,strat_test_set :\n",
    "    set.drop(columns=['income_cat'])"
   ]
  },
  {
   "cell_type": "code",
   "execution_count": 26,
   "metadata": {},
   "outputs": [],
   "source": [
    "housing=strat_train_set.drop(\"median_house_value\",axis=1)\n",
    "housing_labels=strat_train_set[\"median_house_value\"].copy()\n",
    "housing_num=housing.drop(\"ocean_proximity\",axis=1)"
   ]
  },
  {
   "cell_type": "code",
   "execution_count": 27,
   "metadata": {},
   "outputs": [
    {
     "data": {
      "text/plain": [
       "Imputer(axis=0, copy=True, missing_values='NaN', strategy='median', verbose=0)"
      ]
     },
     "execution_count": 27,
     "metadata": {},
     "output_type": "execute_result"
    }
   ],
   "source": [
    "from sklearn.preprocessing import Imputer\n",
    "imputer = Imputer(strategy=\"median\")\n",
    "housing_num=housing.drop(\"ocean_proximity\",axis=1)\n",
    "imputer.fit(housing_num)"
   ]
  },
  {
   "cell_type": "code",
   "execution_count": 28,
   "metadata": {},
   "outputs": [],
   "source": [
    "X=imputer.transform(housing_num)\n"
   ]
  },
  {
   "cell_type": "code",
   "execution_count": 29,
   "metadata": {},
   "outputs": [],
   "source": [
    "housing_tr=pd.DataFrame(X,columns=housing_num.columns)\n"
   ]
  },
  {
   "cell_type": "code",
   "execution_count": 30,
   "metadata": {},
   "outputs": [],
   "source": [
    "from sklearn.preprocessing import LabelEncoder\n",
    "encoder=LabelEncoder()\n",
    "housing_cat=housing[\"ocean_proximity\"]\n",
    "housing_cat_encoded=encoder.fit_transform(housing_cat)"
   ]
  },
  {
   "cell_type": "code",
   "execution_count": 31,
   "metadata": {},
   "outputs": [],
   "source": [
    "housing_tr_1=pd.DataFrame(housing_cat_encoded,columns=[\"ocean_proximity\"])\n",
    "from sklearn.preprocessing import StandardScaler\n",
    "scaler = StandardScaler()\n",
    "scaler.fit(housing_tr)\n",
    "housing_tr=scaler.transform(housing_tr)\n",
    "housing_tr=pd.DataFrame(housing_tr,columns=housing_num.columns)\n"
   ]
  },
  {
   "cell_type": "code",
   "execution_count": 32,
   "metadata": {},
   "outputs": [
    {
     "name": "stdout",
     "output_type": "stream",
     "text": [
      "      index  longitude  latitude  housing_median_age  total_rooms  \\\n",
      "0 -0.527959   0.684384 -0.738029            1.464498    -0.626342   \n",
      "1  0.739448   1.258295 -1.323678           -0.288400    -0.059509   \n",
      "2 -0.098373  -1.087254  0.545714           -1.005495     0.556133   \n",
      "3  0.160388   0.779204 -0.859844           -0.846141     0.481538   \n",
      "4  0.071108   0.824119 -0.948863            0.667726    -0.251063   \n",
      "\n",
      "   total_bedrooms  population  households  median_income  income_cat  \\\n",
      "0       -0.650005   -0.204092   -0.625833      -0.753784   -0.954456   \n",
      "1       -0.456875   -0.314209   -0.390613       0.985693    0.942051   \n",
      "2        0.198812    0.325518    0.291527       0.269602   -0.006202   \n",
      "3        0.375251    0.343871    0.398683      -0.113819   -0.006202   \n",
      "4       -0.063463   -0.658543   -0.286070       0.650443    0.942051   \n",
      "\n",
      "   ocean_proximity  \n",
      "0                0  \n",
      "1                0  \n",
      "2                0  \n",
      "3                0  \n",
      "4                0  \n"
     ]
    }
   ],
   "source": [
    "housing_tr=housing_tr.join(housing_tr_1,lsuffix='_housing_tr', rsuffix='_housing_tr_1')\n",
    "size1=housing_tr['latitude'].size\n",
    "ones_matrix=np.ones(size1)\n",
    "ones_matrix_1=ones_matrix.reshape((size1,1))\n",
    "print(housing_tr.head())\n"
   ]
  },
  {
   "cell_type": "code",
   "execution_count": 33,
   "metadata": {},
   "outputs": [
    {
     "name": "stdout",
     "output_type": "stream",
     "text": [
      "69424.92265989268\n"
     ]
    }
   ],
   "source": [
    "from sklearn.linear_model import Lasso\n",
    "from sklearn.metrics import mean_squared_error\n",
    "lassoreg = Lasso(alpha=2,normalize=True, max_iter=1e5)\n",
    "lassoreg.fit(housing_tr,housing_labels)\n",
    "y_pred = lassoreg.predict(housing_tr)\n",
    "lin_mse=mean_squared_error(housing_labels,y_pred)\n",
    "lin_rmse=np.sqrt(lin_mse)\n",
    "print(lin_rmse)"
   ]
  },
  {
   "cell_type": "code",
   "execution_count": null,
   "metadata": {},
   "outputs": [],
   "source": []
  },
  {
   "cell_type": "code",
   "execution_count": null,
   "metadata": {},
   "outputs": [],
   "source": []
  }
 ],
 "metadata": {
  "kernelspec": {
   "display_name": "Python 2",
   "language": "python",
   "name": "python2"
  },
  "language_info": {
   "codemirror_mode": {
    "name": "ipython",
    "version": 2
   },
   "file_extension": ".py",
   "mimetype": "text/x-python",
   "name": "python",
   "nbconvert_exporter": "python",
   "pygments_lexer": "ipython2",
   "version": "2.7.6"
  }
 },
 "nbformat": 4,
 "nbformat_minor": 2
}
