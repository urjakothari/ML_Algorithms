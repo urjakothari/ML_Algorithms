{
 "cells": [
  {
   "cell_type": "code",
   "execution_count": 24,
   "metadata": {},
   "outputs": [],
   "source": [
    "import matplotlib\n",
    "import matplotlib.pyplot as plt\n",
    "import numpy as np\n",
    "import pandas as pd\n",
    "import sklearn\n"
   ]
  },
  {
   "cell_type": "code",
   "execution_count": 25,
   "metadata": {},
   "outputs": [],
   "source": [
    "def load_housing_data():\n",
    "    return pd.read_csv(\"dataset/housing.csv\")"
   ]
  },
  {
   "cell_type": "code",
   "execution_count": 26,
   "metadata": {},
   "outputs": [],
   "source": [
    "housing=load_housing_data()\n"
   ]
  },
  {
   "cell_type": "code",
   "execution_count": 27,
   "metadata": {},
   "outputs": [],
   "source": [
    "housing=housing.reset_index()"
   ]
  },
  {
   "cell_type": "code",
   "execution_count": 28,
   "metadata": {},
   "outputs": [],
   "source": [
    "housing[\"income_cat\"]=np.ceil(housing[\"median_income\"]/1.5)\n",
    "housing[\"income_cat\"].where(housing[\"income_cat\"]<5,5.0,inplace=True)\n"
   ]
  },
  {
   "cell_type": "code",
   "execution_count": 29,
   "metadata": {},
   "outputs": [],
   "source": [
    "from sklearn.model_selection import StratifiedShuffleSplit\n",
    "split=StratifiedShuffleSplit(n_splits=3,test_size=0.2,random_state=42)\n",
    "for train_index,test_index in split.split(housing,housing[\"income_cat\"]):\n",
    "        strat_train_set=housing.loc[train_index]\n",
    "        strat_test_set=housing.loc[test_index]\n"
   ]
  },
  {
   "cell_type": "code",
   "execution_count": 30,
   "metadata": {},
   "outputs": [],
   "source": [
    "for set in strat_train_set,strat_test_set :\n",
    "    set.drop(columns=['income_cat'])"
   ]
  },
  {
   "cell_type": "code",
   "execution_count": 31,
   "metadata": {},
   "outputs": [],
   "source": [
    "housing=strat_train_set.drop(\"median_house_value\",axis=1)\n",
    "housing_labels=strat_train_set[\"median_house_value\"].copy()\n",
    "housing_num=housing.drop(\"ocean_proximity\",axis=1)"
   ]
  },
  {
   "cell_type": "code",
   "execution_count": 32,
   "metadata": {},
   "outputs": [
    {
     "data": {
      "text/plain": [
       "Imputer(axis=0, copy=True, missing_values='NaN', strategy='median', verbose=0)"
      ]
     },
     "execution_count": 32,
     "metadata": {},
     "output_type": "execute_result"
    }
   ],
   "source": [
    "from sklearn.preprocessing import Imputer\n",
    "imputer = Imputer(strategy=\"median\")\n",
    "housing_num=housing.drop(\"ocean_proximity\",axis=1)\n",
    "imputer.fit(housing_num)"
   ]
  },
  {
   "cell_type": "code",
   "execution_count": 33,
   "metadata": {},
   "outputs": [],
   "source": [
    "X=imputer.transform(housing_num)\n"
   ]
  },
  {
   "cell_type": "code",
   "execution_count": 34,
   "metadata": {},
   "outputs": [],
   "source": [
    "housing_tr=pd.DataFrame(X,columns=housing_num.columns)\n"
   ]
  },
  {
   "cell_type": "code",
   "execution_count": 35,
   "metadata": {},
   "outputs": [],
   "source": [
    "from sklearn.preprocessing import LabelEncoder\n",
    "encoder=LabelEncoder()\n",
    "housing_cat=housing[\"ocean_proximity\"]\n",
    "housing_cat_encoded=encoder.fit_transform(housing_cat)"
   ]
  },
  {
   "cell_type": "code",
   "execution_count": 36,
   "metadata": {},
   "outputs": [],
   "source": [
    "housing_tr_1=pd.DataFrame(housing_cat_encoded,columns=[\"ocean_proximity\"])"
   ]
  },
  {
   "cell_type": "code",
   "execution_count": 37,
   "metadata": {},
   "outputs": [],
   "source": [
    "housing_tr.join(housing_tr_1,lsuffix='_housing_tr', rsuffix='_housing_tr_1')\n",
    "size1=housing_tr['latitude'].size\n",
    "ones_matrix=np.ones(size1)\n",
    "ones_matrix_1=ones_matrix.reshape((size1,1))\n",
    "\n",
    "#ones_matrix=pd.DataFrame(ones_matrix,columns=[\"ones\"])\n",
    "#ones_matrix=ones_matrix.as_matrix()\n"
   ]
  },
  {
   "cell_type": "code",
   "execution_count": 38,
   "metadata": {},
   "outputs": [],
   "source": [
    "housing_matrix=housing_tr.as_matrix()\n",
    "\n",
    "housing_matrix_1=np.append(ones_matrix_1,housing_matrix,axis=1)\n",
    "X_matrix=housing_matrix_1"
   ]
  },
  {
   "cell_type": "code",
   "execution_count": 39,
   "metadata": {},
   "outputs": [],
   "source": [
    "housing_matrix_1=X_matrix\n",
    "Y_matrix=housing_labels.as_matrix()\n",
    "\n",
    "housing_transpose=housing_matrix_1.transpose()\n",
    "housing_product=np.dot(housing_transpose,housing_matrix_1)\n",
    "housing_inverse=np.linalg.pinv(housing_product)\n",
    "into_XTranspose=np.dot(housing_inverse,housing_transpose)\n",
    "into_Y=np.dot(into_XTranspose,Y_matrix)\n",
    "\n"
   ]
  },
  {
   "cell_type": "code",
   "execution_count": 40,
   "metadata": {},
   "outputs": [
    {
     "name": "stdout",
     "output_type": "stream",
     "text": [
      "('Theta:', array([-3.46114066e+06,  5.60010740e-01, -4.10074814e+04, -4.08286771e+04,\n",
      "        1.24324794e+03, -8.89131442e+00,  8.95779857e+01, -3.75089782e+01,\n",
      "        7.74822946e+01,  3.46304082e+04,  1.14404436e+04]))\n"
     ]
    },
    {
     "data": {
      "text/plain": [
       "69390.76219781501"
      ]
     },
     "execution_count": 40,
     "metadata": {},
     "output_type": "execute_result"
    }
   ],
   "source": [
    "W=into_Y\n",
    "print(\"Theta:\",W)\n",
    "productXW=np.dot(housing_matrix_1,W)\n",
    "minusXWY=productXW-Y_matrix\n",
    "cost=np.dot(minusXWY.transpose(),minusXWY)\n",
    "cost=np.sqrt(cost/size1)\n",
    "cost"
   ]
  },
  {
   "cell_type": "code",
   "execution_count": null,
   "metadata": {},
   "outputs": [],
   "source": []
  },
  {
   "cell_type": "code",
   "execution_count": null,
   "metadata": {},
   "outputs": [],
   "source": []
  }
 ],
 "metadata": {
  "kernelspec": {
   "display_name": "Python 2",
   "language": "python",
   "name": "python2"
  },
  "language_info": {
   "codemirror_mode": {
    "name": "ipython",
    "version": 2
   },
   "file_extension": ".py",
   "mimetype": "text/x-python",
   "name": "python",
   "nbconvert_exporter": "python",
   "pygments_lexer": "ipython2",
   "version": "2.7.6"
  }
 },
 "nbformat": 4,
 "nbformat_minor": 2
}
