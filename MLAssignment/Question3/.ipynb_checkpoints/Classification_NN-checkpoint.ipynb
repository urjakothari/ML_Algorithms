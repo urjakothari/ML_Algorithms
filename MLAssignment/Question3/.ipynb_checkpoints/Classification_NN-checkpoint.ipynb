{
 "cells": [
  {
   "cell_type": "code",
   "execution_count": 22,
   "metadata": {},
   "outputs": [],
   "source": [
    "import pandas as pd \n",
    "from sklearn.metrics import precision_recall_fscore_support\n",
    "data = pd.read_csv(\"dataset/D48.csv\",index_col=0)"
   ]
  },
  {
   "cell_type": "code",
   "execution_count": 23,
   "metadata": {},
   "outputs": [],
   "source": [
    "import numpy as np \n",
    "from sklearn.model_selection import train_test_split"
   ]
  },
  {
   "cell_type": "code",
   "execution_count": 24,
   "metadata": {},
   "outputs": [],
   "source": [
    "import hashlib\n",
    "def test_set_check(identifier,test_ratio,hash):\n",
    "    return bytearray(hash(np.int64(identifier)).digest())[-1]  < 51\n",
    "def split_train_test_by_id(data,test_ratio,id_column,hash):\n",
    "    ids=data[id_column]\n",
    "    in_test_set=ids.apply(lambda id_:test_set_check(id_,test_ratio,hash))\n",
    "    return in_test_set\n"
   ]
  },
  {
   "cell_type": "code",
   "execution_count": 25,
   "metadata": {},
   "outputs": [],
   "source": [
    "data=data.reset_index()\n",
    "in_test_set=split_train_test_by_id(data,0.66,\"index\",hashlib.md5)\n",
    "test_set=data[in_test_set]\n",
    "train_set=data[~in_test_set]\n",
    "del train_set['index']\n",
    "del test_set['index']"
   ]
  },
  {
   "cell_type": "code",
   "execution_count": 26,
   "metadata": {},
   "outputs": [],
   "source": [
    "train_set_array = train_set.as_matrix()"
   ]
  },
  {
   "cell_type": "code",
   "execution_count": 27,
   "metadata": {},
   "outputs": [],
   "source": [
    "test_set_copy = test_set\n",
    "test_set_copy = test_set_copy.as_matrix()\n",
    "del test_set['9']\n",
    "\n",
    "test_set_array = test_set.as_matrix()"
   ]
  },
  {
   "cell_type": "code",
   "execution_count": 28,
   "metadata": {},
   "outputs": [],
   "source": [
    "import math\n",
    "def euclidiendistance(instance1, instance2, length ):\n",
    "    distance = 0\n",
    "    for x in range(length):\n",
    "        distance += pow(instance1[x] - instance2[x],2)\n",
    "    return math.sqrt(distance)"
   ]
  },
  {
   "cell_type": "code",
   "execution_count": 29,
   "metadata": {},
   "outputs": [],
   "source": [
    "import operator\n",
    "def getdistance(trainingSet, testInstance):\n",
    "    distances = []\n",
    "    length = len(testInstance)\n",
    "    for x in range(len(trainingSet)):\n",
    "        dist = euclidiendistance(testInstance,trainingSet[x],length)\n",
    "        distances.append((trainingSet[x],dist))\n",
    "    distances.sort(key=operator.itemgetter(1))\n",
    "    return distances[0][0]"
   ]
  },
  {
   "cell_type": "code",
   "execution_count": 30,
   "metadata": {},
   "outputs": [],
   "source": [
    "def getAccuracy(testSet,predictions):\n",
    "    correct = 0\n",
    "    for x in range(len(testSet)):\n",
    "        if testSet[x][-1] == predictions[x]:\n",
    "            correct +=1\n",
    "    return (correct/float(len(testSet)))*100\n",
    "    "
   ]
  },
  {
   "cell_type": "code",
   "execution_count": 31,
   "metadata": {},
   "outputs": [
    {
     "name": "stdout",
     "output_type": "stream",
     "text": [
      "('Accuracy', 81.9047619047619)\n"
     ]
    }
   ],
   "source": [
    "predictions = []\n",
    "for i in range(len(test_set_array)):\n",
    "    neighbour = getdistance(train_set_array,test_set_array[1])\n",
    "    predictions.append(neighbour[8])\n",
    "accuracy = getAccuracy(test_set_copy,predictions)\n",
    "print(\"Accuracy\",accuracy)\n",
    "test_set=[]\n",
    "for i in range(len(test_set_copy)):\n",
    "    test_set.append(test_set_copy[i][-1])\n"
   ]
  },
  {
   "cell_type": "code",
   "execution_count": 32,
   "metadata": {},
   "outputs": [
    {
     "name": "stdout",
     "output_type": "stream",
     "text": [
      "('Precision', 0.819047619047619)\n",
      "('Recall', 1.0)\n",
      "('Fscore', 0.900523560209424)\n"
     ]
    }
   ],
   "source": [
    "scores=precision_recall_fscore_support(test_set, predictions, average='binary')\n",
    "print(\"Precision\",scores[0])\n",
    "print(\"Recall\",scores[1])\n",
    "print(\"Fscore\",scores[2])"
   ]
  },
  {
   "cell_type": "code",
   "execution_count": null,
   "metadata": {},
   "outputs": [],
   "source": []
  },
  {
   "cell_type": "code",
   "execution_count": null,
   "metadata": {},
   "outputs": [],
   "source": []
  }
 ],
 "metadata": {
  "kernelspec": {
   "display_name": "Python 2",
   "language": "python",
   "name": "python2"
  },
  "language_info": {
   "codemirror_mode": {
    "name": "ipython",
    "version": 2
   },
   "file_extension": ".py",
   "mimetype": "text/x-python",
   "name": "python",
   "nbconvert_exporter": "python",
   "pygments_lexer": "ipython2",
   "version": "2.7.6"
  }
 },
 "nbformat": 4,
 "nbformat_minor": 2
}
